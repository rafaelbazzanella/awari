{
 "cells": [
  {
   "cell_type": "markdown",
   "id": "cbe19107",
   "metadata": {},
   "source": [
    "Tarefa Aula 4 Engenharia de Dados Awari\n",
    "\n",
    "O que fazer?\n",
    "\n",
    "As atividades propostas são apenas exercícios “de brinquedo” para reforçar conhecimentos básicos em Python:\n",
    "\n",
    "    1 Criar algoritmo que liste toda a sequência de Fibonacci até o número 100;\n",
    "    2 Criar algoritmo que faça a fatoração do número 1024. (Exemplo de fatoração: 6! = 6*5*4*3*2*1).\n",
    "    3 Criar uma lista de frutas (bananas, maçãs, peras, uvas, laranjas) e fazer um algoritmo para consultar se uma fruta existe na lista. Caso não exista, adicionar a nova fruta. O programa só deve encerrar a brincadeira quando o usuário informar o número 999."
   ]
  },
  {
   "cell_type": "markdown",
   "id": "96447357",
   "metadata": {},
   "source": [
    "1. Fibonacci"
   ]
  },
  {
   "cell_type": "markdown",
   "id": "d091c5c5",
   "metadata": {},
   "source": [
    "Primeira forma"
   ]
  },
  {
   "cell_type": "code",
   "execution_count": 4,
   "id": "3578cd80",
   "metadata": {
    "ExecuteTime": {
     "end_time": "2023-05-03T03:39:41.463500Z",
     "start_time": "2023-05-03T03:39:41.452228Z"
    }
   },
   "outputs": [],
   "source": [
    "def rec_fib(n):\n",
    "    if n > 1:\n",
    "        return rec_fib(n-1) + rec_fib(n-2)\n",
    "    return n\n",
    "for i in range(100):\n",
    "    print(rec_fib(i))"
   ]
  },
  {
   "cell_type": "markdown",
   "id": "157cf09b",
   "metadata": {},
   "source": [
    "Segunda forma:"
   ]
  },
  {
   "cell_type": "code",
   "execution_count": 6,
   "id": "21fbd0e7",
   "metadata": {
    "ExecuteTime": {
     "end_time": "2023-05-03T03:39:49.995620Z",
     "start_time": "2023-05-03T03:39:49.985806Z"
    }
   },
   "outputs": [
    {
     "name": "stdout",
     "output_type": "stream",
     "text": [
      "[0, 1, 1, 2, 3, 5, 8, 13, 21, 34, 55, 89, 144, 233, 377, 610, 987, 1597, 2584, 4181, 6765, 10946, 17711, 28657, 46368, 75025, 121393, 196418, 317811, 514229, 832040, 1346269, 2178309, 3524578, 5702887, 9227465, 14930352, 24157817, 39088169, 63245986, 102334155, 165580141, 267914296, 433494437, 701408733, 1134903170, 1836311903, 2971215073, 4807526976, 7778742049, 12586269025, 20365011074, 32951280099, 53316291173, 86267571272, 139583862445, 225851433717, 365435296162, 591286729879, 956722026041, 1548008755920, 2504730781961, 4052739537881, 6557470319842, 10610209857723, 17167680177565, 27777890035288, 44945570212853, 72723460248141, 117669030460994, 190392490709135, 308061521170129, 498454011879264, 806515533049393, 1304969544928657, 2111485077978050, 3416454622906707, 5527939700884757, 8944394323791464, 14472334024676221, 23416728348467685, 37889062373143906, 61305790721611591, 99194853094755497, 160500643816367088, 259695496911122585, 420196140727489673, 679891637638612258, 1100087778366101931, 1779979416004714189, 2880067194370816120, 4660046610375530309, 7540113804746346429, 12200160415121876738, 19740274219868223167, 31940434634990099905, 51680708854858323072, 83621143489848422977, 135301852344706746049, 218922995834555169026]\n"
     ]
    }
   ],
   "source": [
    "def fibonacci(num):\n",
    "    arr = [0,1]\n",
    "    if num==1:\n",
    "        print('0')\n",
    "    elif num==2:\n",
    "        print('[0,','1]')\n",
    "    else:\n",
    "        while(len(arr)<num):\n",
    "            arr.append(0)\n",
    "        if(num==0 or num==1):\n",
    "            return 1\n",
    "        else:\n",
    "            arr[0]=0\n",
    "            arr[1]=1\n",
    "            for i in range(2,num):\n",
    "                arr[i]=arr[i-1]+arr[i-2]\n",
    "            print(arr)\n",
    "\n",
    "fibonacci(100)"
   ]
  },
  {
   "cell_type": "code",
   "execution_count": null,
   "id": "c8996d82",
   "metadata": {},
   "outputs": [],
   "source": []
  },
  {
   "cell_type": "markdown",
   "id": "419dce26",
   "metadata": {},
   "source": [
    "2. Fatoração de 1024"
   ]
  },
  {
   "cell_type": "code",
   "execution_count": 13,
   "id": "3c08bd6c",
   "metadata": {
    "ExecuteTime": {
     "end_time": "2023-05-03T03:45:23.794179Z",
     "start_time": "2023-05-03T03:45:23.781048Z"
    }
   },
   "outputs": [
    {
     "name": "stdout",
     "output_type": "stream",
     "text": [
      "541852879605885728307692194468385473800155396353801344448287027068321061207337660373314098413621458671907918845708980753931994165770187368260454133333721939108367528012764993769768292516937891165755680659663747947314518404886677672556125188694335251213677274521963430770133713205796248433128870088436171654690237518390452944732277808402932158722061853806162806063925435310822186848239287130261690914211362251144684713888587881629252104046295315949943900357882410243934315037444113890806181406210863953275235375885018598451582229599654558541242789130902486944298610923153307579131675745146436304024890820442907734561827369030502252796926553072967370990758747793127635104702469889667961462133026237158973227857814631807156427767644064591085076564783456324457736853810336981776080498707767046394272605341416779125697733374568037475186676265961665615884681450263337042522664141862157046825684773360944326737493676674915098953768112945831626643856479027816385730291542667725665642276826058264393884514911976419675509290208592713156362983290989441052732125187249527501314071676405516936190781821236701912295767363117054126589929916482008515781751955466910902838729232224509906388638147771255227782631322385756948819393658889908993670874516860653098411020299853816281564334981847105777839534742531499622103488807584513705769839763993103929665046046121166651345131149513657400869056334867859885025601787284982567787314407216524272262997319791568603629406624740101482697559533155736658800562921274680657285201570401940692285557800611429055755324549794008939849146812639860750085263298820224719585505344773711590656682821041417265040658600683844945104354998812886801316551551714673388323340851763819713591312372548673734783537316341517369387565212899726597964903241208727348690699802996369265070088758384854547542272771024255049902319275830918157448205196421072837204937293516175341957775422453152442280391372407717891661203061040255830055033886790052116025408740454620938384367637886658769912790922323717371343176067483352513629123362885893627132294183565884010418727869354439077085278288558308427090461075019007184933139915558212752392329879780649639075333845719173822840501869570463626600235265587502335595489311637509380219119860471335771652403999403296360245577257963673286654348957325740999710567131623272345766761937651408103999193633908286420510098577454524068106897392493138287362226257920000000000000000000000000000000000000000000000000000000000000000000000000000000000000000000000000000000000000000000000000000000000000000000000000000000000000000000000000000000000000000000000000000000000000000000000000000000000000000000000000000000000000\n"
     ]
    }
   ],
   "source": [
    "numero = 1024\n",
    "\n",
    "resultado=1\n",
    "count=1\n",
    "\n",
    "while count <= numero:\n",
    "    resultado *= count\n",
    "    count += 1\n",
    "\n",
    "print(resultado)"
   ]
  },
  {
   "cell_type": "code",
   "execution_count": null,
   "id": "b2bfb272",
   "metadata": {},
   "outputs": [],
   "source": [
    "3. "
   ]
  },
  {
   "cell_type": "code",
   "execution_count": null,
   "id": "6eb8b56d",
   "metadata": {},
   "outputs": [],
   "source": []
  },
  {
   "cell_type": "code",
   "execution_count": 26,
   "id": "bcea18d8",
   "metadata": {
    "ExecuteTime": {
     "end_time": "2023-05-03T03:55:05.540838Z",
     "start_time": "2023-05-03T03:55:05.531270Z"
    }
   },
   "outputs": [],
   "source": [
    "fruta_to_check =  'melancia'"
   ]
  },
  {
   "cell_type": "code",
   "execution_count": 27,
   "id": "d7402727",
   "metadata": {
    "ExecuteTime": {
     "end_time": "2023-05-03T03:55:15.957337Z",
     "start_time": "2023-05-03T03:55:06.611707Z"
    }
   },
   "outputs": [
    {
     "name": "stdout",
     "output_type": "stream",
     "text": [
      "melancia\n",
      "escolha uma nova frutamelão\n",
      "melão\n",
      "escolha uma nova fruta999\n"
     ]
    }
   ],
   "source": [
    "lista_original = ['bananas', 'maçãs', 'peras', 'uvas', 'laranjas']\n",
    "\n",
    "while fruta_to_check != '999':\n",
    "    print(fruta_to_check)\n",
    "    if fruta_to_check in lista_original:\n",
    "        pass\n",
    "    else:\n",
    "        lista_original.append(fruta_to_check)\n",
    "        \n",
    "    fruta_to_check = input('escolha uma nova fruta')"
   ]
  },
  {
   "cell_type": "code",
   "execution_count": 28,
   "id": "4764332a",
   "metadata": {
    "ExecuteTime": {
     "end_time": "2023-05-03T03:55:16.379220Z",
     "start_time": "2023-05-03T03:55:16.360437Z"
    }
   },
   "outputs": [
    {
     "data": {
      "text/plain": [
       "['bananas', 'maçãs', 'peras', 'uvas', 'laranjas', 'melancia', 'melão']"
      ]
     },
     "execution_count": 28,
     "metadata": {},
     "output_type": "execute_result"
    }
   ],
   "source": [
    "lista_original"
   ]
  },
  {
   "cell_type": "code",
   "execution_count": null,
   "id": "ede81047",
   "metadata": {},
   "outputs": [],
   "source": []
  }
 ],
 "metadata": {
  "kernelspec": {
   "display_name": "Python 3 (ipykernel)",
   "language": "python",
   "name": "python3"
  },
  "language_info": {
   "codemirror_mode": {
    "name": "ipython",
    "version": 3
   },
   "file_extension": ".py",
   "mimetype": "text/x-python",
   "name": "python",
   "nbconvert_exporter": "python",
   "pygments_lexer": "ipython3",
   "version": "3.11.2"
  },
  "toc": {
   "base_numbering": 1,
   "nav_menu": {},
   "number_sections": true,
   "sideBar": true,
   "skip_h1_title": false,
   "title_cell": "Table of Contents",
   "title_sidebar": "Contents",
   "toc_cell": false,
   "toc_position": {},
   "toc_section_display": true,
   "toc_window_display": false
  }
 },
 "nbformat": 4,
 "nbformat_minor": 5
}
