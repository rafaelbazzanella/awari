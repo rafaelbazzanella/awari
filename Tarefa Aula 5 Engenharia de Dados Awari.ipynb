{
 "cells": [
  {
   "cell_type": "markdown",
   "metadata": {},
   "source": [
    "<h1> O que fazer? </h1>\n",
    "\n",
    "A atividade vai ao encontro do que foi visto em aula, sobre tratamento e limpeza de dados usando Pandas. O passo a passo consiste em:\n",
    "\n",
    "- Fazer download do dataset Top Youtube Artists, do Kaggle. \n",
    "- Tratar as colunas sem informação adicionando o texto “Não informado”.\n",
    "- Formatar a coluna de total de inscritos multiplicando por 100 milhões.\n",
    "- Formatar coluna “AVG” para 2 casas decimais depois da vírgula.\n",
    "- Mostrar os top 10 usuários.\n",
    "- Mostrar primeiros 100 usuários por nome decrescente.\n",
    "- Salvar um novo CSV com a informação tratada."
   ]
  },
  {
   "cell_type": "code",
   "execution_count": 2,
   "metadata": {
    "ExecuteTime": {
     "end_time": "2023-03-21T23:40:00.696326Z",
     "start_time": "2023-03-21T23:39:58.901319Z"
    }
   },
   "outputs": [],
   "source": [
    "import pandas as pd"
   ]
  },
  {
   "cell_type": "code",
   "execution_count": 6,
   "metadata": {
    "ExecuteTime": {
     "end_time": "2023-03-21T23:42:22.190566Z",
     "start_time": "2023-03-21T23:42:22.174817Z"
    }
   },
   "outputs": [
    {
     "name": "stdout",
     "output_type": "stream",
     "text": [
      "(1587, 4)\n"
     ]
    },
    {
     "data": {
      "text/html": [
       "<div>\n",
       "<style scoped>\n",
       "    .dataframe tbody tr th:only-of-type {\n",
       "        vertical-align: middle;\n",
       "    }\n",
       "\n",
       "    .dataframe tbody tr th {\n",
       "        vertical-align: top;\n",
       "    }\n",
       "\n",
       "    .dataframe thead th {\n",
       "        text-align: right;\n",
       "    }\n",
       "</style>\n",
       "<table border=\"1\" class=\"dataframe\">\n",
       "  <thead>\n",
       "    <tr style=\"text-align: right;\">\n",
       "      <th></th>\n",
       "      <th>Artist</th>\n",
       "      <th>Total Views</th>\n",
       "      <th>100M</th>\n",
       "      <th>Avg</th>\n",
       "    </tr>\n",
       "  </thead>\n",
       "  <tbody>\n",
       "    <tr>\n",
       "      <th>0</th>\n",
       "      <td>BTS</td>\n",
       "      <td>27,947.9</td>\n",
       "      <td>63.0</td>\n",
       "      <td>7.370</td>\n",
       "    </tr>\n",
       "    <tr>\n",
       "      <th>1</th>\n",
       "      <td>Bad Bunny</td>\n",
       "      <td>27,573.4</td>\n",
       "      <td>66.0</td>\n",
       "      <td>14.555</td>\n",
       "    </tr>\n",
       "    <tr>\n",
       "      <th>2</th>\n",
       "      <td>Justin Bieber</td>\n",
       "      <td>27,399.7</td>\n",
       "      <td>37.0</td>\n",
       "      <td>3.986</td>\n",
       "    </tr>\n",
       "    <tr>\n",
       "      <th>3</th>\n",
       "      <td>Ed Sheeran</td>\n",
       "      <td>26,894.0</td>\n",
       "      <td>39.0</td>\n",
       "      <td>4.609</td>\n",
       "    </tr>\n",
       "    <tr>\n",
       "      <th>4</th>\n",
       "      <td>Taylor Swift</td>\n",
       "      <td>24,350.0</td>\n",
       "      <td>38.0</td>\n",
       "      <td>5.716</td>\n",
       "    </tr>\n",
       "  </tbody>\n",
       "</table>\n",
       "</div>"
      ],
      "text/plain": [
       "          Artist Total Views  100M     Avg\n",
       "0            BTS    27,947.9  63.0   7.370\n",
       "1      Bad Bunny    27,573.4  66.0  14.555\n",
       "2  Justin Bieber    27,399.7  37.0   3.986\n",
       "3     Ed Sheeran    26,894.0  39.0   4.609\n",
       "4   Taylor Swift    24,350.0  38.0   5.716"
      ]
     },
     "execution_count": 6,
     "metadata": {},
     "output_type": "execute_result"
    }
   ],
   "source": [
    "df_top_you_tube = pd.read_csv('./topyoutube.csv', )\n",
    "print(df_top_you_tube.shape)\n",
    "df_top_you_tube.head()"
   ]
  },
  {
   "cell_type": "code",
   "execution_count": 7,
   "metadata": {
    "ExecuteTime": {
     "end_time": "2023-03-21T23:42:25.862979Z",
     "start_time": "2023-03-21T23:42:25.846391Z"
    }
   },
   "outputs": [
    {
     "data": {
      "text/html": [
       "<div>\n",
       "<style scoped>\n",
       "    .dataframe tbody tr th:only-of-type {\n",
       "        vertical-align: middle;\n",
       "    }\n",
       "\n",
       "    .dataframe tbody tr th {\n",
       "        vertical-align: top;\n",
       "    }\n",
       "\n",
       "    .dataframe thead th {\n",
       "        text-align: right;\n",
       "    }\n",
       "</style>\n",
       "<table border=\"1\" class=\"dataframe\">\n",
       "  <thead>\n",
       "    <tr style=\"text-align: right;\">\n",
       "      <th></th>\n",
       "      <th>100M</th>\n",
       "      <th>Avg</th>\n",
       "    </tr>\n",
       "  </thead>\n",
       "  <tbody>\n",
       "    <tr>\n",
       "      <th>count</th>\n",
       "      <td>1416.000000</td>\n",
       "      <td>1587.000000</td>\n",
       "    </tr>\n",
       "    <tr>\n",
       "      <th>mean</th>\n",
       "      <td>4.971045</td>\n",
       "      <td>0.615060</td>\n",
       "    </tr>\n",
       "    <tr>\n",
       "      <th>std</th>\n",
       "      <td>6.707931</td>\n",
       "      <td>1.150928</td>\n",
       "    </tr>\n",
       "    <tr>\n",
       "      <th>min</th>\n",
       "      <td>1.000000</td>\n",
       "      <td>0.004000</td>\n",
       "    </tr>\n",
       "    <tr>\n",
       "      <th>25%</th>\n",
       "      <td>1.000000</td>\n",
       "      <td>0.102500</td>\n",
       "    </tr>\n",
       "    <tr>\n",
       "      <th>50%</th>\n",
       "      <td>2.000000</td>\n",
       "      <td>0.239000</td>\n",
       "    </tr>\n",
       "    <tr>\n",
       "      <th>75%</th>\n",
       "      <td>6.000000</td>\n",
       "      <td>0.633500</td>\n",
       "    </tr>\n",
       "    <tr>\n",
       "      <th>max</th>\n",
       "      <td>66.000000</td>\n",
       "      <td>21.626000</td>\n",
       "    </tr>\n",
       "  </tbody>\n",
       "</table>\n",
       "</div>"
      ],
      "text/plain": [
       "              100M          Avg\n",
       "count  1416.000000  1587.000000\n",
       "mean      4.971045     0.615060\n",
       "std       6.707931     1.150928\n",
       "min       1.000000     0.004000\n",
       "25%       1.000000     0.102500\n",
       "50%       2.000000     0.239000\n",
       "75%       6.000000     0.633500\n",
       "max      66.000000    21.626000"
      ]
     },
     "execution_count": 7,
     "metadata": {},
     "output_type": "execute_result"
    }
   ],
   "source": [
    "df_top_you_tube.describe()"
   ]
  },
  {
   "cell_type": "code",
   "execution_count": 26,
   "metadata": {
    "ExecuteTime": {
     "end_time": "2023-03-21T23:50:57.577119Z",
     "start_time": "2023-03-21T23:50:57.572895Z"
    }
   },
   "outputs": [],
   "source": [
    "df = df_top_you_tube.copy()"
   ]
  },
  {
   "cell_type": "code",
   "execution_count": 27,
   "metadata": {
    "ExecuteTime": {
     "end_time": "2023-03-21T23:50:57.823789Z",
     "start_time": "2023-03-21T23:50:57.814735Z"
    }
   },
   "outputs": [],
   "source": [
    "df = df.fillna('Não Informado')"
   ]
  },
  {
   "cell_type": "code",
   "execution_count": 28,
   "metadata": {
    "ExecuteTime": {
     "end_time": "2023-03-21T23:50:58.040452Z",
     "start_time": "2023-03-21T23:50:58.034593Z"
    }
   },
   "outputs": [],
   "source": [
    "# transformandos a coluna de inscritos (na verdade é de visualizações) em númerica e tratando as colunas de milhares\n",
    "df['Total Views'] = df['Total Views'].apply(lambda x: x.replace(',','')).astype(float)\n",
    "# mulitplicando por 100 milhões\n",
    "df['Total Views'] = df['Total Views'].apply(lambda x : x * (1000000))"
   ]
  },
  {
   "cell_type": "code",
   "execution_count": 47,
   "metadata": {
    "ExecuteTime": {
     "end_time": "2023-03-22T00:03:25.928328Z",
     "start_time": "2023-03-22T00:03:25.921033Z"
    }
   },
   "outputs": [
    {
     "data": {
      "text/plain": [
       "0       2.794790e+10\n",
       "1       2.757340e+10\n",
       "2       2.739970e+10\n",
       "3       2.689400e+10\n",
       "4       2.435000e+10\n",
       "            ...     \n",
       "1582    2.041000e+08\n",
       "1583    2.032000e+08\n",
       "1584    2.011000e+08\n",
       "1585    2.008000e+08\n",
       "1586    2.005000e+08\n",
       "Name: Total Views, Length: 1587, dtype: float64"
      ]
     },
     "execution_count": 47,
     "metadata": {},
     "output_type": "execute_result"
    }
   ],
   "source": [
    "df['Total Views']"
   ]
  },
  {
   "cell_type": "code",
   "execution_count": 45,
   "metadata": {
    "ExecuteTime": {
     "end_time": "2023-03-22T00:01:53.394996Z",
     "start_time": "2023-03-22T00:01:53.390166Z"
    }
   },
   "outputs": [
    {
     "data": {
      "text/plain": [
       "'111//////2222/////////22'"
      ]
     },
     "execution_count": 45,
     "metadata": {},
     "output_type": "execute_result"
    }
   ],
   "source": []
  },
  {
   "cell_type": "code",
   "execution_count": 44,
   "metadata": {
    "ExecuteTime": {
     "end_time": "2023-03-22T00:01:31.049798Z",
     "start_time": "2023-03-22T00:01:31.041720Z"
    }
   },
   "outputs": [
    {
     "data": {
      "text/plain": [
       "0       1.279479e+11\n",
       "1       1.275734e+11\n",
       "2       1.273997e+11\n",
       "3       1.268940e+11\n",
       "4       1.243500e+11\n",
       "            ...     \n",
       "1582    1.002041e+11\n",
       "1583    1.002032e+11\n",
       "1584    1.002011e+11\n",
       "1585    1.002008e+11\n",
       "1586    1.002005e+11\n",
       "Name: Total Views, Length: 1587, dtype: float64"
      ]
     },
     "execution_count": 44,
     "metadata": {},
     "output_type": "execute_result"
    }
   ],
   "source": [
    "df['Total Views'].apply(lambda x: x)"
   ]
  },
  {
   "cell_type": "markdown",
   "metadata": {},
   "source": [
    "# Arredondando a média"
   ]
  },
  {
   "cell_type": "code",
   "execution_count": 31,
   "metadata": {
    "ExecuteTime": {
     "end_time": "2023-03-21T23:52:46.504200Z",
     "start_time": "2023-03-21T23:52:46.499227Z"
    }
   },
   "outputs": [],
   "source": [
    "df['Avg'] = df['Avg'].round(2)"
   ]
  },
  {
   "cell_type": "code",
   "execution_count": 41,
   "metadata": {
    "ExecuteTime": {
     "end_time": "2023-03-21T23:56:05.893123Z",
     "start_time": "2023-03-21T23:56:05.885122Z"
    }
   },
   "outputs": [
    {
     "data": {
      "text/plain": [
       "0        7.37\n",
       "1       14.56\n",
       "2        3.99\n",
       "3        4.61\n",
       "4        5.72\n",
       "        ...  \n",
       "1582     0.02\n",
       "1583     0.02\n",
       "1584     0.04\n",
       "1585     0.02\n",
       "1586     0.04\n",
       "Name: Avg, Length: 1587, dtype: float64"
      ]
     },
     "execution_count": 41,
     "metadata": {},
     "output_type": "execute_result"
    }
   ],
   "source": [
    "df['Avg']"
   ]
  },
  {
   "cell_type": "code",
   "execution_count": 32,
   "metadata": {
    "ExecuteTime": {
     "end_time": "2023-03-21T23:52:56.362662Z",
     "start_time": "2023-03-21T23:52:56.347661Z"
    }
   },
   "outputs": [
    {
     "data": {
      "text/html": [
       "<div>\n",
       "<style scoped>\n",
       "    .dataframe tbody tr th:only-of-type {\n",
       "        vertical-align: middle;\n",
       "    }\n",
       "\n",
       "    .dataframe tbody tr th {\n",
       "        vertical-align: top;\n",
       "    }\n",
       "\n",
       "    .dataframe thead th {\n",
       "        text-align: right;\n",
       "    }\n",
       "</style>\n",
       "<table border=\"1\" class=\"dataframe\">\n",
       "  <thead>\n",
       "    <tr style=\"text-align: right;\">\n",
       "      <th></th>\n",
       "      <th>Artist</th>\n",
       "      <th>Total Views</th>\n",
       "      <th>100M</th>\n",
       "      <th>Avg</th>\n",
       "    </tr>\n",
       "  </thead>\n",
       "  <tbody>\n",
       "    <tr>\n",
       "      <th>0</th>\n",
       "      <td>BTS</td>\n",
       "      <td>2.794790e+10</td>\n",
       "      <td>63.0</td>\n",
       "      <td>7.37</td>\n",
       "    </tr>\n",
       "    <tr>\n",
       "      <th>1</th>\n",
       "      <td>Bad Bunny</td>\n",
       "      <td>2.757340e+10</td>\n",
       "      <td>66.0</td>\n",
       "      <td>14.56</td>\n",
       "    </tr>\n",
       "    <tr>\n",
       "      <th>2</th>\n",
       "      <td>Justin Bieber</td>\n",
       "      <td>2.739970e+10</td>\n",
       "      <td>37.0</td>\n",
       "      <td>3.99</td>\n",
       "    </tr>\n",
       "    <tr>\n",
       "      <th>3</th>\n",
       "      <td>Ed Sheeran</td>\n",
       "      <td>2.689400e+10</td>\n",
       "      <td>39.0</td>\n",
       "      <td>4.61</td>\n",
       "    </tr>\n",
       "    <tr>\n",
       "      <th>4</th>\n",
       "      <td>Taylor Swift</td>\n",
       "      <td>2.435000e+10</td>\n",
       "      <td>38.0</td>\n",
       "      <td>5.72</td>\n",
       "    </tr>\n",
       "    <tr>\n",
       "      <th>5</th>\n",
       "      <td>Shakira</td>\n",
       "      <td>2.396180e+10</td>\n",
       "      <td>43.0</td>\n",
       "      <td>7.84</td>\n",
       "    </tr>\n",
       "    <tr>\n",
       "      <th>6</th>\n",
       "      <td>Katy Perry</td>\n",
       "      <td>2.355340e+10</td>\n",
       "      <td>25.0</td>\n",
       "      <td>3.18</td>\n",
       "    </tr>\n",
       "    <tr>\n",
       "      <th>7</th>\n",
       "      <td>Ozuna</td>\n",
       "      <td>2.252480e+10</td>\n",
       "      <td>49.0</td>\n",
       "      <td>4.93</td>\n",
       "    </tr>\n",
       "    <tr>\n",
       "      <th>8</th>\n",
       "      <td>Eminem</td>\n",
       "      <td>2.093770e+10</td>\n",
       "      <td>38.0</td>\n",
       "      <td>5.84</td>\n",
       "    </tr>\n",
       "    <tr>\n",
       "      <th>9</th>\n",
       "      <td>Ariana Grande</td>\n",
       "      <td>2.061850e+10</td>\n",
       "      <td>37.0</td>\n",
       "      <td>3.37</td>\n",
       "    </tr>\n",
       "  </tbody>\n",
       "</table>\n",
       "</div>"
      ],
      "text/plain": [
       "          Artist   Total Views  100M    Avg\n",
       "0            BTS  2.794790e+10  63.0   7.37\n",
       "1      Bad Bunny  2.757340e+10  66.0  14.56\n",
       "2  Justin Bieber  2.739970e+10  37.0   3.99\n",
       "3     Ed Sheeran  2.689400e+10  39.0   4.61\n",
       "4   Taylor Swift  2.435000e+10  38.0   5.72\n",
       "5        Shakira  2.396180e+10  43.0   7.84\n",
       "6     Katy Perry  2.355340e+10  25.0   3.18\n",
       "7          Ozuna  2.252480e+10  49.0   4.93\n",
       "8         Eminem  2.093770e+10  38.0   5.84\n",
       "9  Ariana Grande  2.061850e+10  37.0   3.37"
      ]
     },
     "execution_count": 32,
     "metadata": {},
     "output_type": "execute_result"
    }
   ],
   "source": [
    "# Top 10 do dataframe\n",
    "df.head(10)"
   ]
  },
  {
   "cell_type": "code",
   "execution_count": 40,
   "metadata": {
    "ExecuteTime": {
     "end_time": "2023-03-21T23:54:50.602367Z",
     "start_time": "2023-03-21T23:54:50.595360Z"
    },
    "scrolled": true
   },
   "outputs": [
    {
     "name": "stdout",
     "output_type": "stream",
     "text": [
      "Check unicos: 100\n"
     ]
    },
    {
     "data": {
      "text/plain": [
       "{'(G)I-DLE',\n",
       " '2 Chainz',\n",
       " '21 Savage',\n",
       " '25hours',\n",
       " '2CELLOS',\n",
       " '2NE1',\n",
       " '2PM',\n",
       " '2Pac',\n",
       " '3 Doors Down',\n",
       " '365 DaBand',\n",
       " '3OH!3',\n",
       " '4 Non Blondes',\n",
       " '4Minute',\n",
       " '5 Seconds of Summer',\n",
       " '50 Cent',\n",
       " '6ix9ine',\n",
       " 'A Boogie wit da Hoodie',\n",
       " 'A Great Big World',\n",
       " 'A$AP Rocky',\n",
       " 'A.R. Rahman',\n",
       " 'AAA',\n",
       " 'AC/DC',\n",
       " 'AKB48',\n",
       " 'AOA',\n",
       " 'AWOLNATION',\n",
       " 'Aaliyah',\n",
       " 'Aastha Gill',\n",
       " 'Abba',\n",
       " 'Abel Pintos',\n",
       " 'Abraham Mateo',\n",
       " 'Abu',\n",
       " 'Ace Hood',\n",
       " 'Ace of Base',\n",
       " 'Adam Lambert',\n",
       " 'Adel Tawil',\n",
       " 'Adele',\n",
       " 'Adexe & Nau',\n",
       " 'Aerosmith',\n",
       " 'Afrojack',\n",
       " 'Afroman',\n",
       " 'After School',\n",
       " 'Ahmed Chawki',\n",
       " 'Ailee',\n",
       " 'Aitana',\n",
       " 'Akcent',\n",
       " 'Akcent (Romania)',\n",
       " 'Akon',\n",
       " 'Alan Walker',\n",
       " 'Alanis Morissette',\n",
       " 'Alec Benjamin',\n",
       " 'Alejandra Guzmán',\n",
       " 'Alejandro Fernández',\n",
       " 'Alejandro Sanz',\n",
       " 'Alemán',\n",
       " 'Alessandra Amoroso',\n",
       " 'Alessia Cara',\n",
       " 'Alesso',\n",
       " 'Alex Campos',\n",
       " 'Alex Clare',\n",
       " 'Alex Mica',\n",
       " 'Alex Rose',\n",
       " 'Alex Sensation',\n",
       " 'Alexandra Stan',\n",
       " 'Alexio La Bestia',\n",
       " 'Alexis y Fido',\n",
       " 'Aleyna Tilki',\n",
       " 'Alice Cooper',\n",
       " 'Alice Merton',\n",
       " 'Alicia Keys',\n",
       " 'Alien Ant Farm',\n",
       " 'Alka Yagnik',\n",
       " 'Alkilados',\n",
       " 'Alle Farben',\n",
       " 'Alligatoah',\n",
       " 'Aloe Blacc',\n",
       " 'Alok',\n",
       " 'Alonzo',\n",
       " 'Altamash Faridi',\n",
       " 'Alvaro Soler',\n",
       " 'Amenazzy',\n",
       " 'American Authors',\n",
       " 'Aminé',\n",
       " 'Amir',\n",
       " 'Amit Kumar',\n",
       " 'Amit Mishra',\n",
       " 'Amr Diab',\n",
       " 'Amy Macdonald',\n",
       " 'Amy Winehouse',\n",
       " 'Ana Carolina',\n",
       " 'Anahí',\n",
       " 'Anastacia',\n",
       " 'Anastasija Ražnatović',\n",
       " 'Anavitória',\n",
       " 'Anaïs Delva',\n",
       " 'Andra',\n",
       " 'Andrea Bocelli',\n",
       " 'Andreas Gabalier',\n",
       " 'Andrés Cepeda',\n",
       " 'Andy & Lucas',\n",
       " 'Andy Rivera'}"
      ]
     },
     "execution_count": 40,
     "metadata": {},
     "output_type": "execute_result"
    }
   ],
   "source": [
    "# primeiro 100 artistas\n",
    "first_100_artists_by_name = set(df.sort_values('Artist')['Artist'][0:100])\n",
    "print(f'Check unicos: {len(first_100_artists_by_name)}')\n",
    "first_100_artists_by_name"
   ]
  },
  {
   "cell_type": "code",
   "execution_count": 56,
   "metadata": {
    "ExecuteTime": {
     "end_time": "2023-03-22T00:04:39.397963Z",
     "start_time": "2023-03-22T00:04:39.384232Z"
    }
   },
   "outputs": [],
   "source": [
    "# Para exportar df tratado\n",
    "df.to_csv('df_tratado.csv')"
   ]
  }
 ],
 "metadata": {
  "kernelspec": {
   "display_name": "Python 3 (ipykernel)",
   "language": "python",
   "name": "python3"
  },
  "language_info": {
   "codemirror_mode": {
    "name": "ipython",
    "version": 3
   },
   "file_extension": ".py",
   "mimetype": "text/x-python",
   "name": "python",
   "nbconvert_exporter": "python",
   "pygments_lexer": "ipython3",
   "version": "3.11.2"
  },
  "toc": {
   "base_numbering": 1,
   "nav_menu": {},
   "number_sections": true,
   "sideBar": true,
   "skip_h1_title": false,
   "title_cell": "Table of Contents",
   "title_sidebar": "Contents",
   "toc_cell": false,
   "toc_position": {},
   "toc_section_display": true,
   "toc_window_display": false
  }
 },
 "nbformat": 4,
 "nbformat_minor": 4
}
